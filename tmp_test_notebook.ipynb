{
 "cells": [
  {
   "cell_type": "code",
   "execution_count": 1,
   "id": "643ad3a1",
   "metadata": {},
   "outputs": [],
   "source": [
    "import numpy as np\n",
    "import xarray as xr\n",
    "import xdggs\n",
    "import healpy"
   ]
  },
  {
   "cell_type": "code",
   "execution_count": 5,
   "id": "80d63543",
   "metadata": {},
   "outputs": [],
   "source": [
    "ZOOM = 4\n",
    "N = int(10e6)\n",
    "da = xr.DataArray(\n",
    "    data = np.arange(N),\n",
    "    dims = ('cell_ids',),\n",
    "    coords = {\n",
    "        'cell_ids': ('cell_ids', np.arange(N),{\"grid_name\": \"healpix\", \"level\": ZOOM, \"indexing_scheme\": \"nested\"})},\n",
    ")\n",
    "\n",
    "\n",
    "def sel_and_decode(da, cell_ids):\n",
    "    da = da.copy()\n",
    "\n",
    "    return da.sel(\n",
    "        cell_ids=cell_ids,\n",
    "    ).dggs.decode()\n",
    "\n",
    "def get_cell_ids(lon_lat_list:list[tuple[float, float]], zoom: int):\n",
    "    nsides = 2**zoom\n",
    "\n",
    "    return healpy.query_polygon(\n",
    "        nsides,\n",
    "        [lon_lat_to_xyz(lon_lat) for lon_lat in lon_lat_list],\n",
    "        inclusive=True,\n",
    "        nest=True,\n",
    "    )\n",
    "def lon_lat_to_xyz(lon_lat: tuple[float, float]) -> tuple[float, float, float]:\n",
    "    # https://en.wikipedia.org/wiki/Spherical_coordinate_system\n",
    "    r = 1\n",
    "    lat, lon = lon_lat\n",
    "    lat = np.radians(lat)\n",
    "    lon = np.radians(lon)\n",
    "    x = r * np.cos(lat) * np.cos(lon)\n",
    "    y = r * np.cos(lat) * np.sin(lon)\n",
    "    z = r * np.sin(lat)\n",
    "    return x, y, z\n",
    "\n",
    "\n",
    "def get_aus_bbox():\n",
    "    return (113.338953078, -43.6345972634, 153.569469029, -10.6681857235)\n",
    "\n",
    "\n",
    "MIN_LON, MIN_LAT, MAX_LON, MAX_LAT = get_aus_bbox()\n",
    "\n",
    "POLYGON = [\n",
    "    (MIN_LAT, MIN_LON),\n",
    "    (MIN_LAT, MAX_LON),\n",
    "    (MAX_LAT, MAX_LON),\n",
    "    (MAX_LAT, MIN_LON),\n",
    "]\n",
    "\n",
    "cells = get_cell_ids(POLYGON, ZOOM)\n",
    "cells1 = np.array([1344, 1345, 1347, 1348, 1349, 1350, 2492, 2493, 2495, 2530, 2531,\n",
    "       2536, 2537, 2538, 2539, 2540, 2542, 2543], dtype=np.uint64)\n",
    "\n",
    "da_truth = sel_and_decode(da, cells)\n",
    "da1 = sel_and_decode(da, cells1)\n",
    "\n",
    "\n",
    "\n",
    "\n"
   ]
  },
  {
   "cell_type": "code",
   "execution_count": 6,
   "id": "6cb406e3",
   "metadata": {},
   "outputs": [
    {
     "data": {
      "application/vnd.jupyter.widget-view+json": {
       "model_id": "3fcd7a4f2721466093ed04e1d881f1a2",
       "version_major": 2,
       "version_minor": 1
      },
      "text/plain": [
       "Map(custom_attribution='', layers=(SolidPolygonLayer(filled=True, get_fill_color=arro3.core.ChunkedArray<Fixed…"
      ]
     },
     "execution_count": 6,
     "metadata": {},
     "output_type": "execute_result"
    }
   ],
   "source": [
    "da_truth.dggs.explore()"
   ]
  },
  {
   "cell_type": "code",
   "execution_count": 7,
   "id": "d5a6a79c",
   "metadata": {},
   "outputs": [
    {
     "data": {
      "application/vnd.jupyter.widget-view+json": {
       "model_id": "f63a20669a974006a7aa6c22b409d49e",
       "version_major": 2,
       "version_minor": 1
      },
      "text/plain": [
       "Map(custom_attribution='', layers=(SolidPolygonLayer(filled=True, get_fill_color=arro3.core.ChunkedArray<Fixed…"
      ]
     },
     "execution_count": 7,
     "metadata": {},
     "output_type": "execute_result"
    }
   ],
   "source": [
    "da1.dggs.explore()"
   ]
  }
 ],
 "metadata": {
  "kernelspec": {
   "display_name": ".venv",
   "language": "python",
   "name": "python3"
  },
  "language_info": {
   "codemirror_mode": {
    "name": "ipython",
    "version": 3
   },
   "file_extension": ".py",
   "mimetype": "text/x-python",
   "name": "python",
   "nbconvert_exporter": "python",
   "pygments_lexer": "ipython3",
   "version": "3.13.3"
  }
 },
 "nbformat": 4,
 "nbformat_minor": 5
}
