{
 "cells": [
  {
   "cell_type": "code",
   "execution_count": 1,
   "id": "643ad3a1",
   "metadata": {},
   "outputs": [],
   "source": [
    "import numpy as np\n",
    "import xarray as xr\n",
    "import xdggs\n",
    "import healpy"
   ]
  },
  {
   "cell_type": "code",
   "execution_count": null,
   "id": "2b11ed08",
   "metadata": {},
   "outputs": [],
   "source": []
  },
  {
   "cell_type": "code",
   "execution_count": null,
   "id": "80d63543",
   "metadata": {},
   "outputs": [
    {
     "ename": "ValueError",
     "evalue": "array is too big; `arr.size * arr.dtype.itemsize` is larger than the maximum possible size.",
     "output_type": "error",
     "traceback": [
      "\u001b[31m---------------------------------------------------------------------------\u001b[39m",
      "\u001b[31mValueError\u001b[39m                                Traceback (most recent call last)",
      "\u001b[36mCell\u001b[39m\u001b[36m \u001b[39m\u001b[32mIn[2]\u001b[39m\u001b[32m, line 53\u001b[39m\n\u001b[32m     45\u001b[39m POLYGON = [\n\u001b[32m     46\u001b[39m     (MIN_LAT, MIN_LON),\n\u001b[32m     47\u001b[39m     (MIN_LAT, MAX_LON),\n\u001b[32m     48\u001b[39m     (MAX_LAT, MAX_LON),\n\u001b[32m     49\u001b[39m     (MAX_LAT, MIN_LON),\n\u001b[32m     50\u001b[39m ]\n\u001b[32m     52\u001b[39m cells = get_cell_ids(POLYGON, ZOOM)\n\u001b[32m---> \u001b[39m\u001b[32m53\u001b[39m cells1 = \u001b[43mnp\u001b[49m\u001b[43m.\u001b[49m\u001b[43mndarray\u001b[49m\u001b[43m(\u001b[49m\u001b[43m[\u001b[49m\u001b[32;43m1344\u001b[39;49m\u001b[43m,\u001b[49m\u001b[43m \u001b[49m\u001b[32;43m1345\u001b[39;49m\u001b[43m,\u001b[49m\u001b[43m \u001b[49m\u001b[32;43m1347\u001b[39;49m\u001b[43m,\u001b[49m\u001b[43m \u001b[49m\u001b[32;43m1348\u001b[39;49m\u001b[43m,\u001b[49m\u001b[43m \u001b[49m\u001b[32;43m1349\u001b[39;49m\u001b[43m,\u001b[49m\u001b[43m \u001b[49m\u001b[32;43m1350\u001b[39;49m\u001b[43m,\u001b[49m\u001b[43m \u001b[49m\u001b[32;43m2492\u001b[39;49m\u001b[43m,\u001b[49m\u001b[43m \u001b[49m\u001b[32;43m2493\u001b[39;49m\u001b[43m,\u001b[49m\u001b[43m \u001b[49m\u001b[32;43m2495\u001b[39;49m\u001b[43m,\u001b[49m\u001b[43m \u001b[49m\u001b[32;43m2530\u001b[39;49m\u001b[43m,\u001b[49m\u001b[43m \u001b[49m\u001b[32;43m2531\u001b[39;49m\u001b[43m,\u001b[49m\n\u001b[32m     54\u001b[39m \u001b[43m       \u001b[49m\u001b[32;43m2536\u001b[39;49m\u001b[43m,\u001b[49m\u001b[43m \u001b[49m\u001b[32;43m2537\u001b[39;49m\u001b[43m,\u001b[49m\u001b[43m \u001b[49m\u001b[32;43m2538\u001b[39;49m\u001b[43m,\u001b[49m\u001b[43m \u001b[49m\u001b[32;43m2539\u001b[39;49m\u001b[43m,\u001b[49m\u001b[43m \u001b[49m\u001b[32;43m2540\u001b[39;49m\u001b[43m,\u001b[49m\u001b[43m \u001b[49m\u001b[32;43m2542\u001b[39;49m\u001b[43m,\u001b[49m\u001b[43m \u001b[49m\u001b[32;43m2543\u001b[39;49m\u001b[43m]\u001b[49m\u001b[43m,\u001b[49m\u001b[43m \u001b[49m\u001b[43mdtype\u001b[49m\u001b[43m=\u001b[49m\u001b[43mnp\u001b[49m\u001b[43m.\u001b[49m\u001b[43muint64\u001b[49m\u001b[43m)\u001b[49m\n\u001b[32m     56\u001b[39m da_truth = sel_and_decode(da, cells)\n\u001b[32m     57\u001b[39m da1 = sel_and_decode(da, cells1)\n",
      "\u001b[31mValueError\u001b[39m: array is too big; `arr.size * arr.dtype.itemsize` is larger than the maximum possible size."
     ]
    }
   ],
   "source": [
    "ZOOM = 8\n",
    "N = int(10e6)\n",
    "da = xr.DataArray(\n",
    "    data = np.arange(N),\n",
    "    dims = ('cell_ids',),\n",
    "    coords = {\n",
    "        'cell_ids': ('cell_ids', np.arange(N),{\"grid_name\": \"healpix\", \"level\": ZOOM, \"indexing_scheme\": \"nested\"})},\n",
    ")\n",
    "\n",
    "\n",
    "def sel_and_decode(da, cell_ids):\n",
    "    da = da.copy()\n",
    "\n",
    "    return da.sel(\n",
    "        cell_ids=cell_ids,\n",
    "    ).dggs.decode()\n",
    "\n",
    "def get_cell_ids(lon_lat_list:list[tuple[float, float]], zoom: int):\n",
    "    nsides = 2**zoom\n",
    "\n",
    "    return healpy.query_polygon(\n",
    "        nsides,\n",
    "        [lon_lat_to_xyz(lon_lat) for lon_lat in lon_lat_list],\n",
    "        inclusive=True,\n",
    "        nest=True,\n",
    "    )\n",
    "def lon_lat_to_xyz(lon_lat: tuple[float, float]) -> tuple[float, float, float]:\n",
    "    # https://en.wikipedia.org/wiki/Spherical_coordinate_system\n",
    "    r = 1\n",
    "    lat, lon = lon_lat\n",
    "    lat = np.radians(lat)\n",
    "    lon = np.radians(lon)\n",
    "    x = r * np.cos(lat) * np.cos(lon)\n",
    "    y = r * np.cos(lat) * np.sin(lon)\n",
    "    z = r * np.sin(lat)\n",
    "    return x, y, z\n",
    "\n",
    "\n",
    "def get_aus_bbox():\n",
    "    return (113.338953078, -43.6345972634, 153.569469029, -10.6681857235)\n",
    "\n",
    "\n",
    "MIN_LON, MIN_LAT, MAX_LON, MAX_LAT = get_aus_bbox()\n",
    "\n",
    "POLYGON = [\n",
    "    (MIN_LAT, MIN_LON),\n",
    "    (MIN_LAT, MAX_LON),\n",
    "    (MAX_LAT, MAX_LON),\n",
    "    (MAX_LAT, MIN_LON),\n",
    "]\n",
    "\n",
    "cells = get_cell_ids(POLYGON, ZOOM)\n",
    "cells1 = np.array([1344, 1345, 1347, 1348, 1349, 1350, 2492, 2493, 2495, 2530, 2531,\n",
    "       2536, 2537, 2538, 2539, 2540, 2542, 2543], dtype=np.uint64)\n",
    "\n",
    "da_truth = sel_and_decode(da, cells)\n",
    "da1 = sel_and_decode(da, cells1)\n",
    "\n",
    "\n",
    "\n",
    "\n"
   ]
  },
  {
   "cell_type": "code",
   "execution_count": 30,
   "id": "baa9e841",
   "metadata": {},
   "outputs": [
    {
     "data": {
      "text/plain": [
       "array([345083, 346449])"
      ]
     },
     "execution_count": 30,
     "metadata": {},
     "output_type": "execute_result"
    }
   ],
   "source": [
    "cells"
   ]
  },
  {
   "cell_type": "code",
   "execution_count": 31,
   "id": "6cb406e3",
   "metadata": {},
   "outputs": [
    {
     "data": {
      "application/vnd.jupyter.widget-view+json": {
       "model_id": "c3b2ae31849d44eb9ac2941211eed3ec",
       "version_major": 2,
       "version_minor": 1
      },
      "text/plain": [
       "Map(custom_attribution='', layers=(SolidPolygonLayer(filled=True, get_fill_color=arro3.core.ChunkedArray<Fixed…"
      ]
     },
     "execution_count": 31,
     "metadata": {},
     "output_type": "execute_result"
    }
   ],
   "source": [
    "da_truth.dggs.explore()"
   ]
  },
  {
   "cell_type": "code",
   "execution_count": null,
   "id": "b35ccf6f",
   "metadata": {},
   "outputs": [],
   "source": []
  },
  {
   "cell_type": "code",
   "execution_count": null,
   "id": "6b4b20cd",
   "metadata": {},
   "outputs": [],
   "source": []
  },
  {
   "cell_type": "code",
   "execution_count": null,
   "id": "d5a6a79c",
   "metadata": {},
   "outputs": [],
   "source": [
    "da1.dggs.explore()"
   ]
  },
  {
   "cell_type": "code",
   "execution_count": null,
   "id": "e71dd9c0",
   "metadata": {},
   "outputs": [],
   "source": [
    "da.dggs.grid_info"
   ]
  },
  {
   "cell_type": "code",
   "execution_count": null,
   "id": "9969fe77",
   "metadata": {},
   "outputs": [],
   "source": [
    "g = da.dggs.downscale(3, np.max)"
   ]
  },
  {
   "cell_type": "code",
   "execution_count": null,
   "id": "a29176e1",
   "metadata": {},
   "outputs": [],
   "source": [
    "def upscale(obj, *, offset, grid_info):\n",
    "    \"\"\"Upscale a dataset by copying data from the parent cells to the child cells.\"\"\"\n",
    "    if not grid_info.nest:\n",
    "        raise NotImplementedError(\"Upscaling is only supported for nested Healpix grids.\")\n",
    "\n",
    "    if offset == 0:\n",
    "        return obj\n",
    "    \n",
    "    obj = obj.copy()\n",
    "\n",
    "    first_child_cells = obj.cell_ids * (4**offset)\n",
    "\n",
    "    obj.cell_ids = first_child_cells"
   ]
  },
  {
   "cell_type": "code",
   "execution_count": null,
   "id": "eca27213",
   "metadata": {},
   "outputs": [],
   "source": [
    "children = da.dggs.children\n",
    "da[\"cell_ids\"] =  da.cell_ids * (4**2)\n"
   ]
  },
  {
   "cell_type": "code",
   "execution_count": null,
   "id": "2d91085d",
   "metadata": {},
   "outputs": [],
   "source": [
    "da = da.sel(cell_ids = children)\n",
    "da.ffill(\"cell_ids\")"
   ]
  },
  {
   "cell_type": "code",
   "execution_count": null,
   "id": "9486cb9a",
   "metadata": {},
   "outputs": [],
   "source": [
    "g.groups"
   ]
  },
  {
   "cell_type": "code",
   "execution_count": null,
   "id": "050e2706",
   "metadata": {},
   "outputs": [],
   "source": [
    "bins = np.floor(da.cells / (coarsen*4))"
   ]
  },
  {
   "cell_type": "code",
   "execution_count": null,
   "id": "efe5a713",
   "metadata": {},
   "outputs": [],
   "source": [
    "da.groupby(bins).mean()"
   ]
  },
  {
   "cell_type": "code",
   "execution_count": null,
   "id": "f6d195d5",
   "metadata": {},
   "outputs": [],
   "source": [
    "da.groupby(cells=slice(None, None, 4))"
   ]
  },
  {
   "cell_type": "code",
   "execution_count": null,
   "id": "2611ed4e",
   "metadata": {},
   "outputs": [],
   "source": []
  }
 ],
 "metadata": {
  "kernelspec": {
   "display_name": ".venv",
   "language": "python",
   "name": "python3"
  },
  "language_info": {
   "codemirror_mode": {
    "name": "ipython",
    "version": 3
   },
   "file_extension": ".py",
   "mimetype": "text/x-python",
   "name": "python",
   "nbconvert_exporter": "python",
   "pygments_lexer": "ipython3",
   "version": "3.13.3"
  }
 },
 "nbformat": 4,
 "nbformat_minor": 5
}
