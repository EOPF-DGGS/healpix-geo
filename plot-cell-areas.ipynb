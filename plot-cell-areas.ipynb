{
 "cells": [
  {
   "cell_type": "code",
   "execution_count": null,
   "id": "0",
   "metadata": {},
   "outputs": [],
   "source": [
    "import pandas as pd"
   ]
  },
  {
   "cell_type": "code",
   "execution_count": null,
   "id": "1",
   "metadata": {},
   "outputs": [],
   "source": [
    "df = pd.read_csv(\"cell-areas-depth-10.csv\", index_col=\"cell_id\")\n",
    "df"
   ]
  },
  {
   "cell_type": "code",
   "execution_count": null,
   "id": "2",
   "metadata": {},
   "outputs": [],
   "source": [
    "df.median()"
   ]
  },
  {
   "cell_type": "code",
   "execution_count": null,
   "id": "3",
   "metadata": {},
   "outputs": [],
   "source": [
    "df.mean()"
   ]
  },
  {
   "cell_type": "code",
   "execution_count": null,
   "id": "4",
   "metadata": {},
   "outputs": [],
   "source": [
    "order = [\"area_sphere\", \"area_wgs84\", \"area_naive_wgs84\"]\n",
    "pd.set_option(\"display.float_format\", lambda x: f\"{x:.3f}\")\n",
    "axes = df.pipe(lambda df: df / 1e6).plot.line(\n",
    "    subplots=[[n] for n in order],\n",
    "    layout=(2, 2),\n",
    "    figsize=(12, 12),\n",
    "    sharex=True,\n",
    "    legend=False,\n",
    "    title=\"areas in [$km^2$]\",\n",
    ")\n",
    "for ax, name in zip(axes.flatten(), order):\n",
    "    ax.set_title(name)\n",
    "    ax.ticklabel_format(useOffset=False)\n",
    "\n",
    "# axes.flat[0].figure.savefig(\"cell-areas-level-10.png\")"
   ]
  }
 ],
 "metadata": {
  "language_info": {
   "codemirror_mode": {
    "name": "ipython",
    "version": 3
   },
   "file_extension": ".py",
   "mimetype": "text/x-python",
   "name": "python",
   "nbconvert_exporter": "python",
   "pygments_lexer": "ipython3",
   "version": "3.12.8"
  }
 },
 "nbformat": 4,
 "nbformat_minor": 5
}
