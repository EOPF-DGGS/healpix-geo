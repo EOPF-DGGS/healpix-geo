{
 "cells": [
  {
   "cell_type": "code",
   "execution_count": null,
   "id": "0",
   "metadata": {},
   "outputs": [],
   "source": [
    "import matplotlib.pyplot as plt\n",
    "import numpy as np\n",
    "\n",
    "from healpix_geo.coordinates import (\n",
    "    latitude_authalic_to_geographic,\n",
    "    latitude_geographic_to_authalic,\n",
    ")"
   ]
  },
  {
   "cell_type": "code",
   "execution_count": null,
   "id": "1",
   "metadata": {},
   "outputs": [],
   "source": [
    "authalic_lat = np.linspace(\n",
    "    -np.pi / 2, np.pi / 2, int(1e6)\n",
    ")  # range of authalic latitudes in radians used for distortion evaluation\n",
    "authalic_lat"
   ]
  },
  {
   "cell_type": "code",
   "execution_count": null,
   "id": "2",
   "metadata": {},
   "outputs": [],
   "source": [
    "geographic_lat = latitude_authalic_to_geographic(authalic_lat, \"WGS84\")\n",
    "geographic_lat"
   ]
  },
  {
   "cell_type": "code",
   "execution_count": null,
   "id": "3",
   "metadata": {},
   "outputs": [],
   "source": [
    "plt.plot(geographic_lat[:-1], np.diff(geographic_lat))"
   ]
  },
  {
   "cell_type": "code",
   "execution_count": null,
   "id": "4",
   "metadata": {},
   "outputs": [],
   "source": [
    "authalic_lat_roundtrip = latitude_geographic_to_authalic(geographic_lat, \"WGS84\")\n",
    "authalic_lat_roundtrip"
   ]
  },
  {
   "cell_type": "code",
   "execution_count": null,
   "id": "5",
   "metadata": {},
   "outputs": [],
   "source": [
    "np.abs(authalic_lat_roundtrip - authalic_lat).max()"
   ]
  },
  {
   "cell_type": "code",
   "execution_count": null,
   "id": "6",
   "metadata": {},
   "outputs": [],
   "source": [
    "plt.title(\"latitude authalic to geographic to authalic error\")\n",
    "plt.plot(authalic_lat, authalic_lat_roundtrip - authalic_lat, lw=0.2, c=\"gray\")\n",
    "plt.axhline(y=1.5e-16, ls=\"--\", c=\"red\", label=r\"$\\simeq 1$ nm on Earth\")\n",
    "plt.axhline(y=-1.5e-16, ls=\"--\", c=\"red\")\n",
    "plt.xlabel(r\"$\\xi$ (rad)\")\n",
    "plt.ylabel(r\"$\\xi'-\\xi$ (rad)\")\n",
    "plt.legend()\n",
    "plt.show()"
   ]
  }
 ],
 "metadata": {
  "language_info": {
   "codemirror_mode": {
    "name": "ipython",
    "version": 3
   },
   "file_extension": ".py",
   "mimetype": "text/x-python",
   "name": "python",
   "nbconvert_exporter": "python",
   "pygments_lexer": "ipython3",
   "version": "3.10.18"
  },
  "toc": {
   "base_numbering": 1,
   "nav_menu": {},
   "number_sections": true,
   "sideBar": true,
   "skip_h1_title": false,
   "title_cell": "Table of Contents",
   "title_sidebar": "Contents",
   "toc_cell": false,
   "toc_position": {},
   "toc_section_display": true,
   "toc_window_display": false
  },
  "varInspector": {
   "cols": {
    "lenName": 16,
    "lenType": 16,
    "lenVar": 40
   },
   "kernels_config": {
    "python": {
     "delete_cmd_postfix": "",
     "delete_cmd_prefix": "del ",
     "library": "var_list.py",
     "varRefreshCmd": "print(var_dic_list())"
    },
    "r": {
     "delete_cmd_postfix": ") ",
     "delete_cmd_prefix": "rm(",
     "library": "var_list.r",
     "varRefreshCmd": "cat(var_dic_list()) "
    }
   },
   "types_to_exclude": [
    "module",
    "function",
    "builtin_function_or_method",
    "instance",
    "_Feature"
   ],
   "window_display": false
  }
 },
 "nbformat": 4,
 "nbformat_minor": 5
}
